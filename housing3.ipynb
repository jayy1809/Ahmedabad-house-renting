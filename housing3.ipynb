{
  "nbformat": 4,
  "nbformat_minor": 0,
  "metadata": {
    "colab": {
      "provenance": [],
      "authorship_tag": "ABX9TyNyS9/QGv4LHPUnI6NxttRZ",
      "include_colab_link": true
    },
    "kernelspec": {
      "name": "python3",
      "display_name": "Python 3"
    },
    "language_info": {
      "name": "python"
    }
  },
  "cells": [
    {
      "cell_type": "markdown",
      "metadata": {
        "id": "view-in-github",
        "colab_type": "text"
      },
      "source": [
        "<a href=\"https://colab.research.google.com/github/jayy1809/Ahmedabad-house-renting/blob/main/housing3.ipynb\" target=\"_parent\"><img src=\"https://colab.research.google.com/assets/colab-badge.svg\" alt=\"Open In Colab\"/></a>"
      ]
    },
    {
      "cell_type": "code",
      "execution_count": 18,
      "metadata": {
        "id": "pvznuirdpRFB"
      },
      "outputs": [],
      "source": [
        "import pandas as pd\n",
        "import numpy as np\n",
        "import matplotlib.pyplot as plt\n",
        "%matplotlib inline\n",
        "import seaborn as sns"
      ]
    },
    {
      "cell_type": "code",
      "source": [
        "df = pd.read_csv('ahmedabad-gandhinagar-housing.csv')"
      ],
      "metadata": {
        "id": "Q5TZzTVcu9gi"
      },
      "execution_count": 19,
      "outputs": []
    },
    {
      "cell_type": "code",
      "source": [
        "print(df.shape)"
      ],
      "metadata": {
        "colab": {
          "base_uri": "https://localhost:8080/"
        },
        "id": "A5QGvdSTwRC-",
        "outputId": "f9e0eb6e-5f8c-41dd-bc55-ec0f5c7aab12"
      },
      "execution_count": 20,
      "outputs": [
        {
          "output_type": "stream",
          "name": "stdout",
          "text": [
            "(3918, 15)\n"
          ]
        }
      ]
    },
    {
      "cell_type": "code",
      "source": [
        "df.head()"
      ],
      "metadata": {
        "colab": {
          "base_uri": "https://localhost:8080/",
          "height": 278
        },
        "id": "jmgfXvjWwU3V",
        "outputId": "43ace27a-3ab4-4e32-9927-8e2d2eaca66f"
      },
      "execution_count": 21,
      "outputs": [
        {
          "output_type": "execute_result",
          "data": {
            "text/plain": [
              "   property_price  property_bhk property_sqft property_city  \\\n",
              "0         27000.0           3.0          2211     Ahmedabad   \n",
              "1        180000.0           4.0          5400     Ahmedabad   \n",
              "2         32000.0           3.0          2013     Ahmedabad   \n",
              "3        120000.0           4.0          3500     Ahmedabad   \n",
              "4         35000.0           3.0          1472     Ahmedabad   \n",
              "\n",
              "             property_locality       property_developer    is_furnished  \\\n",
              "0  Sarkhej Gandhinagar Highway        Godrej Properties  Semi-Furnished   \n",
              "1                       Shilaj                      NaN       Furnished   \n",
              "2       Sardar Patel Ring Road  Goyal & Co and HN Safal  Semi-Furnished   \n",
              "3                    Satellite          Iris Build Cone       Furnished   \n",
              "4                        Shela            GSG Abode LLP       Furnished   \n",
              "\n",
              "   num_of_lifts  num_of_carparkings              property_project  \\\n",
              "0           2.0                 NaN  Pinecrest Godrej Garden City   \n",
              "1           NaN                 3.0                           NaN   \n",
              "2           3.0                 NaN                 Orchid Legacy   \n",
              "3           2.0                 NaN                  Iris Exotica   \n",
              "4           2.0                 NaN                    Orchid Sky   \n",
              "\n",
              "   num_of_baths  num_of_balconies bechelors_or_family  floornumber  totalfloor  \n",
              "0           3.0               NaN              Family          5.0        22.0  \n",
              "1           4.0               1.0              Family          NaN         NaN  \n",
              "2           3.0               1.0    Bachelors/Family          5.0        16.0  \n",
              "3           4.0               1.0              Family          8.0        14.0  \n",
              "4           3.0               1.0              Family          9.0        12.0  "
            ],
            "text/html": [
              "\n",
              "  <div id=\"df-96b05e4c-3030-492b-945c-bcc98b8fae29\" class=\"colab-df-container\">\n",
              "    <div>\n",
              "<style scoped>\n",
              "    .dataframe tbody tr th:only-of-type {\n",
              "        vertical-align: middle;\n",
              "    }\n",
              "\n",
              "    .dataframe tbody tr th {\n",
              "        vertical-align: top;\n",
              "    }\n",
              "\n",
              "    .dataframe thead th {\n",
              "        text-align: right;\n",
              "    }\n",
              "</style>\n",
              "<table border=\"1\" class=\"dataframe\">\n",
              "  <thead>\n",
              "    <tr style=\"text-align: right;\">\n",
              "      <th></th>\n",
              "      <th>property_price</th>\n",
              "      <th>property_bhk</th>\n",
              "      <th>property_sqft</th>\n",
              "      <th>property_city</th>\n",
              "      <th>property_locality</th>\n",
              "      <th>property_developer</th>\n",
              "      <th>is_furnished</th>\n",
              "      <th>num_of_lifts</th>\n",
              "      <th>num_of_carparkings</th>\n",
              "      <th>property_project</th>\n",
              "      <th>num_of_baths</th>\n",
              "      <th>num_of_balconies</th>\n",
              "      <th>bechelors_or_family</th>\n",
              "      <th>floornumber</th>\n",
              "      <th>totalfloor</th>\n",
              "    </tr>\n",
              "  </thead>\n",
              "  <tbody>\n",
              "    <tr>\n",
              "      <th>0</th>\n",
              "      <td>27000.0</td>\n",
              "      <td>3.0</td>\n",
              "      <td>2211</td>\n",
              "      <td>Ahmedabad</td>\n",
              "      <td>Sarkhej Gandhinagar Highway</td>\n",
              "      <td>Godrej Properties</td>\n",
              "      <td>Semi-Furnished</td>\n",
              "      <td>2.0</td>\n",
              "      <td>NaN</td>\n",
              "      <td>Pinecrest Godrej Garden City</td>\n",
              "      <td>3.0</td>\n",
              "      <td>NaN</td>\n",
              "      <td>Family</td>\n",
              "      <td>5.0</td>\n",
              "      <td>22.0</td>\n",
              "    </tr>\n",
              "    <tr>\n",
              "      <th>1</th>\n",
              "      <td>180000.0</td>\n",
              "      <td>4.0</td>\n",
              "      <td>5400</td>\n",
              "      <td>Ahmedabad</td>\n",
              "      <td>Shilaj</td>\n",
              "      <td>NaN</td>\n",
              "      <td>Furnished</td>\n",
              "      <td>NaN</td>\n",
              "      <td>3.0</td>\n",
              "      <td>NaN</td>\n",
              "      <td>4.0</td>\n",
              "      <td>1.0</td>\n",
              "      <td>Family</td>\n",
              "      <td>NaN</td>\n",
              "      <td>NaN</td>\n",
              "    </tr>\n",
              "    <tr>\n",
              "      <th>2</th>\n",
              "      <td>32000.0</td>\n",
              "      <td>3.0</td>\n",
              "      <td>2013</td>\n",
              "      <td>Ahmedabad</td>\n",
              "      <td>Sardar Patel Ring Road</td>\n",
              "      <td>Goyal &amp; Co and HN Safal</td>\n",
              "      <td>Semi-Furnished</td>\n",
              "      <td>3.0</td>\n",
              "      <td>NaN</td>\n",
              "      <td>Orchid Legacy</td>\n",
              "      <td>3.0</td>\n",
              "      <td>1.0</td>\n",
              "      <td>Bachelors/Family</td>\n",
              "      <td>5.0</td>\n",
              "      <td>16.0</td>\n",
              "    </tr>\n",
              "    <tr>\n",
              "      <th>3</th>\n",
              "      <td>120000.0</td>\n",
              "      <td>4.0</td>\n",
              "      <td>3500</td>\n",
              "      <td>Ahmedabad</td>\n",
              "      <td>Satellite</td>\n",
              "      <td>Iris Build Cone</td>\n",
              "      <td>Furnished</td>\n",
              "      <td>2.0</td>\n",
              "      <td>NaN</td>\n",
              "      <td>Iris Exotica</td>\n",
              "      <td>4.0</td>\n",
              "      <td>1.0</td>\n",
              "      <td>Family</td>\n",
              "      <td>8.0</td>\n",
              "      <td>14.0</td>\n",
              "    </tr>\n",
              "    <tr>\n",
              "      <th>4</th>\n",
              "      <td>35000.0</td>\n",
              "      <td>3.0</td>\n",
              "      <td>1472</td>\n",
              "      <td>Ahmedabad</td>\n",
              "      <td>Shela</td>\n",
              "      <td>GSG Abode LLP</td>\n",
              "      <td>Furnished</td>\n",
              "      <td>2.0</td>\n",
              "      <td>NaN</td>\n",
              "      <td>Orchid Sky</td>\n",
              "      <td>3.0</td>\n",
              "      <td>1.0</td>\n",
              "      <td>Family</td>\n",
              "      <td>9.0</td>\n",
              "      <td>12.0</td>\n",
              "    </tr>\n",
              "  </tbody>\n",
              "</table>\n",
              "</div>\n",
              "    <div class=\"colab-df-buttons\">\n",
              "\n",
              "  <div class=\"colab-df-container\">\n",
              "    <button class=\"colab-df-convert\" onclick=\"convertToInteractive('df-96b05e4c-3030-492b-945c-bcc98b8fae29')\"\n",
              "            title=\"Convert this dataframe to an interactive table.\"\n",
              "            style=\"display:none;\">\n",
              "\n",
              "  <svg xmlns=\"http://www.w3.org/2000/svg\" height=\"24px\" viewBox=\"0 -960 960 960\">\n",
              "    <path d=\"M120-120v-720h720v720H120Zm60-500h600v-160H180v160Zm220 220h160v-160H400v160Zm0 220h160v-160H400v160ZM180-400h160v-160H180v160Zm440 0h160v-160H620v160ZM180-180h160v-160H180v160Zm440 0h160v-160H620v160Z\"/>\n",
              "  </svg>\n",
              "    </button>\n",
              "\n",
              "  <style>\n",
              "    .colab-df-container {\n",
              "      display:flex;\n",
              "      gap: 12px;\n",
              "    }\n",
              "\n",
              "    .colab-df-convert {\n",
              "      background-color: #E8F0FE;\n",
              "      border: none;\n",
              "      border-radius: 50%;\n",
              "      cursor: pointer;\n",
              "      display: none;\n",
              "      fill: #1967D2;\n",
              "      height: 32px;\n",
              "      padding: 0 0 0 0;\n",
              "      width: 32px;\n",
              "    }\n",
              "\n",
              "    .colab-df-convert:hover {\n",
              "      background-color: #E2EBFA;\n",
              "      box-shadow: 0px 1px 2px rgba(60, 64, 67, 0.3), 0px 1px 3px 1px rgba(60, 64, 67, 0.15);\n",
              "      fill: #174EA6;\n",
              "    }\n",
              "\n",
              "    .colab-df-buttons div {\n",
              "      margin-bottom: 4px;\n",
              "    }\n",
              "\n",
              "    [theme=dark] .colab-df-convert {\n",
              "      background-color: #3B4455;\n",
              "      fill: #D2E3FC;\n",
              "    }\n",
              "\n",
              "    [theme=dark] .colab-df-convert:hover {\n",
              "      background-color: #434B5C;\n",
              "      box-shadow: 0px 1px 3px 1px rgba(0, 0, 0, 0.15);\n",
              "      filter: drop-shadow(0px 1px 2px rgba(0, 0, 0, 0.3));\n",
              "      fill: #FFFFFF;\n",
              "    }\n",
              "  </style>\n",
              "\n",
              "    <script>\n",
              "      const buttonEl =\n",
              "        document.querySelector('#df-96b05e4c-3030-492b-945c-bcc98b8fae29 button.colab-df-convert');\n",
              "      buttonEl.style.display =\n",
              "        google.colab.kernel.accessAllowed ? 'block' : 'none';\n",
              "\n",
              "      async function convertToInteractive(key) {\n",
              "        const element = document.querySelector('#df-96b05e4c-3030-492b-945c-bcc98b8fae29');\n",
              "        const dataTable =\n",
              "          await google.colab.kernel.invokeFunction('convertToInteractive',\n",
              "                                                    [key], {});\n",
              "        if (!dataTable) return;\n",
              "\n",
              "        const docLinkHtml = 'Like what you see? Visit the ' +\n",
              "          '<a target=\"_blank\" href=https://colab.research.google.com/notebooks/data_table.ipynb>data table notebook</a>'\n",
              "          + ' to learn more about interactive tables.';\n",
              "        element.innerHTML = '';\n",
              "        dataTable['output_type'] = 'display_data';\n",
              "        await google.colab.output.renderOutput(dataTable, element);\n",
              "        const docLink = document.createElement('div');\n",
              "        docLink.innerHTML = docLinkHtml;\n",
              "        element.appendChild(docLink);\n",
              "      }\n",
              "    </script>\n",
              "  </div>\n",
              "\n",
              "\n",
              "<div id=\"df-1f622a1f-3e99-4290-b49c-a5ffa5ccdba7\">\n",
              "  <button class=\"colab-df-quickchart\" onclick=\"quickchart('df-1f622a1f-3e99-4290-b49c-a5ffa5ccdba7')\"\n",
              "            title=\"Suggest charts.\"\n",
              "            style=\"display:none;\">\n",
              "\n",
              "<svg xmlns=\"http://www.w3.org/2000/svg\" height=\"24px\"viewBox=\"0 0 24 24\"\n",
              "     width=\"24px\">\n",
              "    <g>\n",
              "        <path d=\"M19 3H5c-1.1 0-2 .9-2 2v14c0 1.1.9 2 2 2h14c1.1 0 2-.9 2-2V5c0-1.1-.9-2-2-2zM9 17H7v-7h2v7zm4 0h-2V7h2v10zm4 0h-2v-4h2v4z\"/>\n",
              "    </g>\n",
              "</svg>\n",
              "  </button>\n",
              "\n",
              "<style>\n",
              "  .colab-df-quickchart {\n",
              "      --bg-color: #E8F0FE;\n",
              "      --fill-color: #1967D2;\n",
              "      --hover-bg-color: #E2EBFA;\n",
              "      --hover-fill-color: #174EA6;\n",
              "      --disabled-fill-color: #AAA;\n",
              "      --disabled-bg-color: #DDD;\n",
              "  }\n",
              "\n",
              "  [theme=dark] .colab-df-quickchart {\n",
              "      --bg-color: #3B4455;\n",
              "      --fill-color: #D2E3FC;\n",
              "      --hover-bg-color: #434B5C;\n",
              "      --hover-fill-color: #FFFFFF;\n",
              "      --disabled-bg-color: #3B4455;\n",
              "      --disabled-fill-color: #666;\n",
              "  }\n",
              "\n",
              "  .colab-df-quickchart {\n",
              "    background-color: var(--bg-color);\n",
              "    border: none;\n",
              "    border-radius: 50%;\n",
              "    cursor: pointer;\n",
              "    display: none;\n",
              "    fill: var(--fill-color);\n",
              "    height: 32px;\n",
              "    padding: 0;\n",
              "    width: 32px;\n",
              "  }\n",
              "\n",
              "  .colab-df-quickchart:hover {\n",
              "    background-color: var(--hover-bg-color);\n",
              "    box-shadow: 0 1px 2px rgba(60, 64, 67, 0.3), 0 1px 3px 1px rgba(60, 64, 67, 0.15);\n",
              "    fill: var(--button-hover-fill-color);\n",
              "  }\n",
              "\n",
              "  .colab-df-quickchart-complete:disabled,\n",
              "  .colab-df-quickchart-complete:disabled:hover {\n",
              "    background-color: var(--disabled-bg-color);\n",
              "    fill: var(--disabled-fill-color);\n",
              "    box-shadow: none;\n",
              "  }\n",
              "\n",
              "  .colab-df-spinner {\n",
              "    border: 2px solid var(--fill-color);\n",
              "    border-color: transparent;\n",
              "    border-bottom-color: var(--fill-color);\n",
              "    animation:\n",
              "      spin 1s steps(1) infinite;\n",
              "  }\n",
              "\n",
              "  @keyframes spin {\n",
              "    0% {\n",
              "      border-color: transparent;\n",
              "      border-bottom-color: var(--fill-color);\n",
              "      border-left-color: var(--fill-color);\n",
              "    }\n",
              "    20% {\n",
              "      border-color: transparent;\n",
              "      border-left-color: var(--fill-color);\n",
              "      border-top-color: var(--fill-color);\n",
              "    }\n",
              "    30% {\n",
              "      border-color: transparent;\n",
              "      border-left-color: var(--fill-color);\n",
              "      border-top-color: var(--fill-color);\n",
              "      border-right-color: var(--fill-color);\n",
              "    }\n",
              "    40% {\n",
              "      border-color: transparent;\n",
              "      border-right-color: var(--fill-color);\n",
              "      border-top-color: var(--fill-color);\n",
              "    }\n",
              "    60% {\n",
              "      border-color: transparent;\n",
              "      border-right-color: var(--fill-color);\n",
              "    }\n",
              "    80% {\n",
              "      border-color: transparent;\n",
              "      border-right-color: var(--fill-color);\n",
              "      border-bottom-color: var(--fill-color);\n",
              "    }\n",
              "    90% {\n",
              "      border-color: transparent;\n",
              "      border-bottom-color: var(--fill-color);\n",
              "    }\n",
              "  }\n",
              "</style>\n",
              "\n",
              "  <script>\n",
              "    async function quickchart(key) {\n",
              "      const quickchartButtonEl =\n",
              "        document.querySelector('#' + key + ' button');\n",
              "      quickchartButtonEl.disabled = true;  // To prevent multiple clicks.\n",
              "      quickchartButtonEl.classList.add('colab-df-spinner');\n",
              "      try {\n",
              "        const charts = await google.colab.kernel.invokeFunction(\n",
              "            'suggestCharts', [key], {});\n",
              "      } catch (error) {\n",
              "        console.error('Error during call to suggestCharts:', error);\n",
              "      }\n",
              "      quickchartButtonEl.classList.remove('colab-df-spinner');\n",
              "      quickchartButtonEl.classList.add('colab-df-quickchart-complete');\n",
              "    }\n",
              "    (() => {\n",
              "      let quickchartButtonEl =\n",
              "        document.querySelector('#df-1f622a1f-3e99-4290-b49c-a5ffa5ccdba7 button');\n",
              "      quickchartButtonEl.style.display =\n",
              "        google.colab.kernel.accessAllowed ? 'block' : 'none';\n",
              "    })();\n",
              "  </script>\n",
              "</div>\n",
              "    </div>\n",
              "  </div>\n"
            ]
          },
          "metadata": {},
          "execution_count": 21
        }
      ]
    },
    {
      "cell_type": "code",
      "source": [
        "df = df.rename(columns={'bechelors_or_family': 'bachelors_or_family'})"
      ],
      "metadata": {
        "id": "UVXjfg-9wWkv"
      },
      "execution_count": 22,
      "outputs": []
    },
    {
      "cell_type": "code",
      "source": [
        "df['property_sqft'] = df['property_sqft'].str.replace(',', '').astype(float)"
      ],
      "metadata": {
        "id": "QObePcD3waKg"
      },
      "execution_count": 23,
      "outputs": []
    },
    {
      "cell_type": "code",
      "source": [
        "df['property_locality'] = df['property_locality'].str.split(',').str[-1].str.strip()"
      ],
      "metadata": {
        "id": "-c4lEDvbwcpp"
      },
      "execution_count": 24,
      "outputs": []
    },
    {
      "cell_type": "code",
      "source": [
        "df.isnull().sum()"
      ],
      "metadata": {
        "colab": {
          "base_uri": "https://localhost:8080/"
        },
        "id": "WdUalqE4we4O",
        "outputId": "dc9015c7-7c87-4b90-f49d-816b45bf8725"
      },
      "execution_count": 25,
      "outputs": [
        {
          "output_type": "execute_result",
          "data": {
            "text/plain": [
              "property_price            3\n",
              "property_bhk             14\n",
              "property_sqft           189\n",
              "property_city             0\n",
              "property_locality       209\n",
              "property_developer     2083\n",
              "is_furnished             24\n",
              "num_of_lifts           2473\n",
              "num_of_carparkings     2929\n",
              "property_project       1561\n",
              "num_of_baths            308\n",
              "num_of_balconies       2125\n",
              "bachelors_or_family       0\n",
              "floornumber             471\n",
              "totalfloor              425\n",
              "dtype: int64"
            ]
          },
          "metadata": {},
          "execution_count": 25
        }
      ]
    },
    {
      "cell_type": "code",
      "source": [
        "sns.displot(df.property_price[df.property_price < 100000],kde=False)"
      ],
      "metadata": {
        "colab": {
          "base_uri": "https://localhost:8080/",
          "height": 524
        },
        "id": "TFNDg7OxwjwS",
        "outputId": "b0e63b5a-e084-4f38-fe8e-f1f856aa4240"
      },
      "execution_count": 26,
      "outputs": [
        {
          "output_type": "execute_result",
          "data": {
            "text/plain": [
              "<seaborn.axisgrid.FacetGrid at 0x79bd9bf71480>"
            ]
          },
          "metadata": {},
          "execution_count": 26
        },
        {
          "output_type": "display_data",
          "data": {
            "text/plain": [
              "<Figure size 500x500 with 1 Axes>"
            ],
            "image/png": "[encoded data removed]"
          },
          "metadata": {}
        }
      ]
    },
    {
      "cell_type": "code",
      "source": [
        "df.info()"
      ],
      "metadata": {
        "colab": {
          "base_uri": "https://localhost:8080/"
        },
        "id": "xnmcZoDhwp2q",
        "outputId": "c3d0a2d5-a089-4f21-8015-8f27df514083"
      },
      "execution_count": 27,
      "outputs": [
        {
          "output_type": "stream",
          "name": "stdout",
          "text": [
            "<class 'pandas.core.frame.DataFrame'>\n",
            "RangeIndex: 3918 entries, 0 to 3917\n",
            "Data columns (total 15 columns):\n",
            " #   Column               Non-Null Count  Dtype  \n",
            "---  ------               --------------  -----  \n",
            " 0   property_price       3915 non-null   float64\n",
            " 1   property_bhk         3904 non-null   float64\n",
            " 2   property_sqft        3729 non-null   float64\n",
            " 3   property_city        3918 non-null   object \n",
            " 4   property_locality    3709 non-null   object \n",
            " 5   property_developer   1835 non-null   object \n",
            " 6   is_furnished         3894 non-null   object \n",
            " 7   num_of_lifts         1445 non-null   float64\n",
            " 8   num_of_carparkings   989 non-null    float64\n",
            " 9   property_project     2357 non-null   object \n",
            " 10  num_of_baths         3610 non-null   float64\n",
            " 11  num_of_balconies     1793 non-null   float64\n",
            " 12  bachelors_or_family  3918 non-null   object \n",
            " 13  floornumber          3447 non-null   float64\n",
            " 14  totalfloor           3493 non-null   float64\n",
            "dtypes: float64(9), object(6)\n",
            "memory usage: 459.3+ KB\n"
          ]
        }
      ]
    },
    {
      "cell_type": "code",
      "source": [
        "features_with_na=[features for features in df.columns if df[features].isnull().sum()>1]\n",
        "## 2- step print the feature name and the percentage of missing values\n",
        "\n",
        "for feature in features_with_na:\n",
        "    print(feature, 100*(np.round(df[feature].isnull().mean(), 4)),  ' % missing values')\n"
      ],
      "metadata": {
        "colab": {
          "base_uri": "https://localhost:8080/"
        },
        "id": "JyjqON0sxFmq",
        "outputId": "842268a3-c498-49a1-f5a7-3e584be19c5a"
      },
      "execution_count": 28,
      "outputs": [
        {
          "output_type": "stream",
          "name": "stdout",
          "text": [
            "property_price 0.08  % missing values\n",
            "property_bhk 0.36  % missing values\n",
            "property_sqft 4.82  % missing values\n",
            "property_locality 5.33  % missing values\n",
            "property_developer 53.16  % missing values\n",
            "is_furnished 0.61  % missing values\n",
            "num_of_lifts 63.12  % missing values\n",
            "num_of_carparkings 74.76  % missing values\n",
            "property_project 39.839999999999996  % missing values\n",
            "num_of_baths 7.86  % missing values\n",
            "num_of_balconies 54.24  % missing values\n",
            "floornumber 12.02  % missing values\n",
            "totalfloor 10.85  % missing values\n"
          ]
        }
      ]
    },
    {
      "cell_type": "code",
      "source": [
        "df.columns = df.columns.str.lower().str.replace(' ', '_')\n",
        "string_columns = list(df.dtypes[df.dtypes == 'object'].index)\n",
        "for col in string_columns:\n",
        " df[col] = df[col].str.lower().str.replace(' ', '_')"
      ],
      "metadata": {
        "id": "b96oEMx8xOCW"
      },
      "execution_count": 29,
      "outputs": []
    },
    {
      "cell_type": "code",
      "source": [
        "df.nunique()"
      ],
      "metadata": {
        "colab": {
          "base_uri": "https://localhost:8080/"
        },
        "id": "AiUg8Va5xSJ1",
        "outputId": "29dd7df1-581e-4d35-d7a9-49c1889608af"
      },
      "execution_count": 30,
      "outputs": [
        {
          "output_type": "execute_result",
          "data": {
            "text/plain": [
              "property_price         251\n",
              "property_bhk             8\n",
              "property_sqft          718\n",
              "property_city            2\n",
              "property_locality      196\n",
              "property_developer     308\n",
              "is_furnished             3\n",
              "num_of_lifts             7\n",
              "num_of_carparkings       7\n",
              "property_project       802\n",
              "num_of_baths             6\n",
              "num_of_balconies         1\n",
              "bachelors_or_family      3\n",
              "floornumber             19\n",
              "totalfloor              27\n",
              "dtype: int64"
            ]
          },
          "metadata": {},
          "execution_count": 30
        }
      ]
    },
    {
      "cell_type": "code",
      "source": [
        "df['num_of_lifts'].median()"
      ],
      "metadata": {
        "colab": {
          "base_uri": "https://localhost:8080/"
        },
        "id": "Pcjw0upAzRBz",
        "outputId": "66abe74b-9052-46d5-906b-0b24f7f0c784"
      },
      "execution_count": 31,
      "outputs": [
        {
          "output_type": "execute_result",
          "data": {
            "text/plain": [
              "2.0"
            ]
          },
          "metadata": {},
          "execution_count": 31
        }
      ]
    },
    {
      "cell_type": "code",
      "source": [
        "data = df.copy()\n",
        "data.num_of_lifts = data.num_of_lifts.fillna(2)\n"
      ],
      "metadata": {
        "id": "c8Oo51Om1Yaw"
      },
      "execution_count": 32,
      "outputs": []
    },
    {
      "cell_type": "code",
      "source": [
        "del data['num_of_carparkings']"
      ],
      "metadata": {
        "id": "PtA96Qet1o0y"
      },
      "execution_count": 33,
      "outputs": []
    },
    {
      "cell_type": "code",
      "source": [
        "del data['property_developer']"
      ],
      "metadata": {
        "id": "tkUcwZCt2FPI"
      },
      "execution_count": 34,
      "outputs": []
    },
    {
      "cell_type": "code",
      "source": [
        "data['num_of_balconies'].median()"
      ],
      "metadata": {
        "colab": {
          "base_uri": "https://localhost:8080/"
        },
        "id": "3zie0bZR2SRR",
        "outputId": "5810339f-7f90-46ae-f367-415faacb7144"
      },
      "execution_count": 37,
      "outputs": [
        {
          "output_type": "execute_result",
          "data": {
            "text/plain": [
              "1.0"
            ]
          },
          "metadata": {},
          "execution_count": 37
        }
      ]
    },
    {
      "cell_type": "code",
      "source": [
        "data.num_of_balconies = data.num_of_balconies.fillna(1)"
      ],
      "metadata": {
        "id": "dc5bmQpK2poH"
      },
      "execution_count": 38,
      "outputs": []
    },
    {
      "cell_type": "code",
      "source": [
        "categorical_features=[feature for feature in data.columns if data[feature].dtypes=='O']"
      ],
      "metadata": {
        "id": "O8l5jtRG2y1F"
      },
      "execution_count": 40,
      "outputs": []
    },
    {
      "cell_type": "code",
      "source": [
        "for feature in categorical_features:\n",
        "    print('The feature is {} and number of categories are {}'.format(feature,len(data[feature].unique())))"
      ],
      "metadata": {
        "colab": {
          "base_uri": "https://localhost:8080/"
        },
        "id": "HfGxAN2k3IY9",
        "outputId": "279a839e-1925-4a71-caaa-4cd6355121a4"
      },
      "execution_count": 41,
      "outputs": [
        {
          "output_type": "stream",
          "name": "stdout",
          "text": [
            "The feature is property_city and number of categories are 2\n",
            "The feature is property_locality and number of categories are 197\n",
            "The feature is is_furnished and number of categories are 4\n",
            "The feature is property_project and number of categories are 803\n",
            "The feature is bachelors_or_family and number of categories are 3\n"
          ]
        }
      ]
    },
    {
      "cell_type": "code",
      "source": [
        "features_nan=[feature for feature in data.columns if data[feature].isnull().sum()>1 and data[feature].dtypes=='O']\n",
        "\n",
        "def replace_cat_feature(dataset,features_nan):\n",
        "    data2=dataset.copy()\n",
        "    data2[features_nan]=data2[features_nan].fillna('missing')\n",
        "    return data2\n",
        "\n",
        "data=replace_cat_feature(data,features_nan)\n",
        "\n",
        "data[features_nan].isnull().sum()"
      ],
      "metadata": {
        "colab": {
          "base_uri": "https://localhost:8080/"
        },
        "id": "p-b0P4673hE6",
        "outputId": "64f97b2f-d495-4751-df23-6d123682cab2"
      },
      "execution_count": 42,
      "outputs": [
        {
          "output_type": "execute_result",
          "data": {
            "text/plain": [
              "property_locality    0\n",
              "is_furnished         0\n",
              "property_project     0\n",
              "dtype: int64"
            ]
          },
          "metadata": {},
          "execution_count": 42
        }
      ]
    },
    {
      "cell_type": "code",
      "source": [
        "numerical_with_nan=[feature for feature in data.columns if data[feature].isnull().sum()>1 and data[feature].dtypes!='O']\n",
        "\n",
        "for feature in numerical_with_nan:\n",
        "    ## We will replace by using median since there are outliers\n",
        "    median_value=data[feature].median()\n",
        "\n",
        "    ## create a new feature to capture nan values\n",
        "    # here if it has null values replace it with 1 in new column else 0 so we can see which values we added which were null before\n",
        "    data[feature+'nan']=np.where(data[feature].isnull(),1,0)\n",
        "    data[feature].fillna(median_value,inplace=True)\n",
        "\n",
        "data[numerical_with_nan].isnull().sum()"
      ],
      "metadata": {
        "colab": {
          "base_uri": "https://localhost:8080/"
        },
        "id": "c1oHv76x4BC5",
        "outputId": "a02c36a5-ac57-41e1-cfcc-fbbf3da1f060"
      },
      "execution_count": 43,
      "outputs": [
        {
          "output_type": "execute_result",
          "data": {
            "text/plain": [
              "property_price    0\n",
              "property_bhk      0\n",
              "property_sqft     0\n",
              "num_of_baths      0\n",
              "floornumber       0\n",
              "totalfloor        0\n",
              "dtype: int64"
            ]
          },
          "metadata": {},
          "execution_count": 43
        }
      ]
    },
    {
      "cell_type": "code",
      "source": [
        "from sklearn.model_selection import train_test_split"
      ],
      "metadata": {
        "id": "fTAr2nk-4j9r"
      },
      "execution_count": 44,
      "outputs": []
    },
    {
      "cell_type": "code",
      "source": [
        "df_train_full2 , df_test2 = train_test_split(data, test_size=0.2, random_state=42)"
      ],
      "metadata": {
        "id": "zlsMCa9O4ySl"
      },
      "execution_count": 46,
      "outputs": []
    },
    {
      "cell_type": "code",
      "source": [
        "df_train , df_val = train_test_split(df_train_full2, test_size = 0.25, random_state = 42)"
      ],
      "metadata": {
        "id": "v1RMhZsB4y6O"
      },
      "execution_count": 47,
      "outputs": []
    },
    {
      "cell_type": "code",
      "source": [
        "y_train = df_train.property_price.values\n",
        "y_val = df_val.property_price.values"
      ],
      "metadata": {
        "id": "9uM5slb248cl"
      },
      "execution_count": 48,
      "outputs": []
    },
    {
      "cell_type": "code",
      "source": [
        "del df_train['property_price']\n",
        "del df_val['property_price']\n"
      ],
      "metadata": {
        "id": "X8hPM6-A5BB6"
      },
      "execution_count": 49,
      "outputs": []
    },
    {
      "cell_type": "code",
      "source": [
        "from sklearn.linear_model import Lasso\n",
        "from sklearn.feature_selection import SelectFromModel\n",
        "\n",
        "numerical_features2 = [feature for feature in df_train.columns if df_train[feature].dtypes!='O']\n",
        "\n",
        "feature_sel_model = SelectFromModel(Lasso(alpha=0.005, random_state=42))\n",
        "feature_sel_model.fit(df_train[numerical_features2], y_train)\n",
        "\n",
        "feature_sel_model.get_support()"
      ],
      "metadata": {
        "colab": {
          "base_uri": "https://localhost:8080/"
        },
        "id": "mIF9UfKZ5CbQ",
        "outputId": "3a29b0ae-b484-486e-de25-a4414f6d38fa"
      },
      "execution_count": 50,
      "outputs": [
        {
          "output_type": "execute_result",
          "data": {
            "text/plain": [
              "array([ True,  True,  True,  True, False,  True,  True,  True,  True,\n",
              "        True,  True,  True,  True])"
            ]
          },
          "metadata": {},
          "execution_count": 50
        }
      ]
    },
    {
      "cell_type": "code",
      "source": [
        "# df_train.head()\n",
        "df_train.columns"
      ],
      "metadata": {
        "colab": {
          "base_uri": "https://localhost:8080/"
        },
        "id": "gsti3atW5m6Z",
        "outputId": "125bc0c9-67f1-466c-f1c5-d92afa253845"
      },
      "execution_count": 52,
      "outputs": [
        {
          "output_type": "execute_result",
          "data": {
            "text/plain": [
              "Index(['property_bhk', 'property_sqft', 'property_city', 'property_locality',\n",
              "       'is_furnished', 'num_of_lifts', 'property_project', 'num_of_baths',\n",
              "       'num_of_balconies', 'bachelors_or_family', 'floornumber', 'totalfloor',\n",
              "       'property_pricenan', 'property_bhknan', 'property_sqftnan',\n",
              "       'num_of_bathsnan', 'floornumbernan', 'totalfloornan'],\n",
              "      dtype='object')"
            ]
          },
          "metadata": {},
          "execution_count": 52
        }
      ]
    },
    {
      "cell_type": "code",
      "source": [
        "df_train.drop(columns=['is_furnished'], inplace=True)\n",
        "df_val.drop(columns=['is_furnished'], inplace=True)"
      ],
      "metadata": {
        "id": "gRPiV5dl6Qom"
      },
      "execution_count": 53,
      "outputs": []
    },
    {
      "cell_type": "code",
      "source": [
        "dict_train = df_train.to_dict(orient = 'records')\n",
        "dict_val = df_val.to_dict(orient = 'records')\n"
      ],
      "metadata": {
        "id": "C-YbUmrU6aOj"
      },
      "execution_count": 54,
      "outputs": []
    },
    {
      "cell_type": "code",
      "source": [
        "from sklearn.feature_extraction import DictVectorizer\n",
        "\n",
        "dv = DictVectorizer(sparse = False)\n",
        "\n",
        "X_train = dv.fit_transform(dict_train)\n",
        "X_val = dv.transform(dict_val)"
      ],
      "metadata": {
        "id": "ikfGI2qC6d36"
      },
      "execution_count": 55,
      "outputs": []
    },
    {
      "cell_type": "code",
      "source": [
        "from sklearn.ensemble import RandomForestRegressor\n",
        "from sklearn.metrics import mean_squared_error, mean_absolute_error\n",
        "\n",
        "rf_model = RandomForestRegressor(\n",
        "    n_estimators=100,  # Number of trees (you can adjust this)\n",
        "    random_state=42 ,   # Random seed for reproducibility\n",
        ")\n",
        "\n",
        "rf_model.fit(X_train, y_train)\n",
        "\n",
        "y_pred_rf = rf_model.predict(X_val)\n",
        "\n",
        "\n",
        "rmse_rf = mean_squared_error(y_val, y_pred_rf, squared=False)\n",
        "mae_rf = mean_absolute_error(y_val, y_pred_rf)\n",
        "print(f\"RandomForestRegressor RMSE: {rmse_rf}\")\n",
        "print(f\"RandomForestRegressor MAE: {mae_rf}\")"
      ],
      "metadata": {
        "colab": {
          "base_uri": "https://localhost:8080/"
        },
        "id": "llVrUQdM6igt",
        "outputId": "8f9d8b1e-e845-463b-c963-eaf1cdd5babb"
      },
      "execution_count": 71,
      "outputs": [
        {
          "output_type": "stream",
          "name": "stdout",
          "text": [
            "RandomForestRegressor RMSE: 87794.76931884106\n",
            "RandomForestRegressor MAE: 12671.78058956916\n"
          ]
        }
      ]
    },
    {
      "cell_type": "code",
      "source": [
        "import xgboost as xgb\n",
        "from xgboost import XGBRegressor\n",
        "from sklearn.metrics import mean_squared_error, mean_absolute_error\n",
        "\n",
        "xgb_model = XGBRegressor(\n",
        "    n_estimators=100,  # Number of boosting rounds (you can adjust this)\n",
        "    learning_rate=0.1,  # Learning rate (you can adjust this)\n",
        "    max_depth=3,  # Maximum depth of trees (you can adjust this)\n",
        "    random_state=42  # Random seed for reproducibility\n",
        ")\n",
        "\n",
        "xgb_model.fit(X_train, y_train)\n",
        "\n",
        "y_pred_xgb = xgb_model.predict(X_val)\n",
        "\n",
        "rmse_xgb = mean_squared_error(y_val, y_pred_xgb, squared=False)\n",
        "mae_xgb = mean_absolute_error(y_val, y_pred_xgb)\n",
        "print(f\"Root Mean Squared Error , XGB (RMSE): {rmse_xgb}\")\n",
        "print(f\"Root Mean Squared Error , XGB (MAE): {mae_xgb}\")"
      ],
      "metadata": {
        "colab": {
          "base_uri": "https://localhost:8080/"
        },
        "id": "_iv96Qyy9XH6",
        "outputId": "5a8e4a1c-4904-4e47-c7e3-7b6f7e588d42"
      },
      "execution_count": 72,
      "outputs": [
        {
          "output_type": "stream",
          "name": "stdout",
          "text": [
            "Root Mean Squared Error , XGB (RMSE): 90808.6928696567\n",
            "Root Mean Squared Error , XGB (MAE): 15019.726498506507\n"
          ]
        }
      ]
    },
    {
      "cell_type": "code",
      "source": [
        "from sklearn.model_selection import GridSearchCV\n",
        "\n",
        "param_grid = {\n",
        "    'n_estimators': [100, 200],\n",
        "    'max_depth': [None, 10, 20],\n",
        "    'min_samples_split': [2, 5],\n",
        "    'min_samples_leaf': [1, 2, 3]\n",
        "}\n",
        "\n",
        "grid_search = GridSearchCV(estimator=rf_model, param_grid=param_grid, cv=5, scoring='neg_mean_squared_error', n_jobs=-1)\n",
        "\n",
        "grid_search.fit(X_train, y_train)\n",
        "\n",
        "# Get the best parameters\n",
        "best_params = grid_search.best_params_\n",
        "\n",
        "# Get the best model\n",
        "best_model = grid_search.best_estimator_\n",
        "\n",
        "# Use the best model for prediction\n",
        "y_pred_grid = best_model.predict(X_val)"
      ],
      "metadata": {
        "id": "sOQgeYs3A2f2"
      },
      "execution_count": 74,
      "outputs": []
    },
    {
      "cell_type": "code",
      "source": [
        "rmse_xgb = mean_squared_error(y_val, y_pred_grid, squared=False)\n",
        "mae_xgb = mean_absolute_error(y_val, y_pred_grid)\n",
        "print(f\"Root Mean Squared Error , XGB (RMSE): {rmse_xgb}\")\n",
        "print(f\"Root Mean Squared Error , XGB (MAE): {mae_xgb}\")\n",
        "\n",
        "# hence we were able to reduc MAE in our model good goood"
      ],
      "metadata": {
        "colab": {
          "base_uri": "https://localhost:8080/"
        },
        "id": "LKU2vyqHFaWc",
        "outputId": "168a7663-9488-4bb9-fc07-5c2523c86047"
      },
      "execution_count": 75,
      "outputs": [
        {
          "output_type": "stream",
          "name": "stdout",
          "text": [
            "Root Mean Squared Error , XGB (RMSE): 83206.59404656694\n",
            "Root Mean Squared Error , XGB (MAE): 12574.66893306022\n"
          ]
        }
      ]
    },
    {
      "cell_type": "code",
      "source": [
        "\n",
        "data = df.copy()\n",
        "del data['num_of_lifts']\n",
        "del data['property_developer']\n",
        "del data['num_of_balconies']\n",
        "del data['num_of_carparkings']\n",
        "\n",
        "# data['bath/bed'] = data['num_of_baths']/data['property_bhk']\n",
        "# data['bedsqft'] = data['property_sqft']/ data['property_bhk'] # uselesss\n",
        "\n",
        "categorical_features=[feature for feature in data.columns if data[feature].dtypes=='O']\n",
        "\n",
        "features_nan=[feature for feature in data.columns if data[feature].isnull().sum()>1 and data[feature].dtypes=='O']\n",
        "\n",
        "def replace_cat_feature(dataset,features_nan):\n",
        "    data2=dataset.copy()\n",
        "    data2[features_nan]=data2[features_nan].fillna('missing')\n",
        "    return data2\n",
        "\n",
        "data=replace_cat_feature(data,features_nan)\n",
        "\n",
        "data[features_nan].isnull().sum()\n",
        "\n",
        "numerical_with_nan=[feature for feature in data.columns if data[feature].isnull().sum()>1 and data[feature].dtypes!='O']\n",
        "\n",
        "for feature in numerical_with_nan:\n",
        "    ## We will replace by using median since there are outliers\n",
        "    median_value=data[feature].median()\n",
        "\n",
        "    ## create a new feature to capture nan values\n",
        "    # here if it has null values replace it with 1 in new column else 0 so we can see which values we added which were null before\n",
        "    data[feature+'nan']=np.where(data[feature].isnull(),1,0)\n",
        "    data[feature].fillna(median_value,inplace=True)\n",
        "\n",
        "data[numerical_with_nan].isnull().sum()\n",
        "\n",
        "from sklearn.model_selection import train_test_split\n",
        "\n",
        "df_train_full2 , df_test2 = train_test_split(data, test_size=0.2, random_state=42)\n",
        "\n",
        "df_train , df_val = train_test_split(df_train_full2, test_size = 0.25, random_state = 42)\n",
        "\n",
        "y_train = df_train.property_price.values\n",
        "y_val = df_val.property_price.values\n",
        "\n",
        "del df_train['property_price']\n",
        "del df_val['property_price']\n",
        "\n",
        "from sklearn.linear_model import Lasso\n",
        "from sklearn.feature_selection import SelectFromModel\n",
        "\n",
        "numerical_features2 = [feature for feature in df_train.columns if df_train[feature].dtypes!='O']\n",
        "\n",
        "feature_sel_model = SelectFromModel(Lasso(alpha=0.005, random_state=42))\n",
        "feature_sel_model.fit(df_train[numerical_features2], y_train)\n",
        "\n",
        "feature_sel_model.get_support()\n",
        "\n",
        "\n",
        ""
      ],
      "metadata": {
        "colab": {
          "base_uri": "https://localhost:8080/"
        },
        "id": "7Au0wuRTGA6M",
        "outputId": "f07fa024-d2bc-4082-a624-796942a9e111"
      },
      "execution_count": 114,
      "outputs": [
        {
          "output_type": "execute_result",
          "data": {
            "text/plain": [
              "array([ True,  True,  True,  True,  True,  True,  True,  True,  True,\n",
              "        True,  True])"
            ]
          },
          "metadata": {},
          "execution_count": 114
        }
      ]
    },
    {
      "cell_type": "code",
      "source": [
        "df_train.columns"
      ],
      "metadata": {
        "colab": {
          "base_uri": "https://localhost:8080/"
        },
        "id": "j86_Gxs4IBa5",
        "outputId": "bc3bbab8-b7a4-43e7-f8e7-cfab44b814fa"
      },
      "execution_count": 115,
      "outputs": [
        {
          "output_type": "execute_result",
          "data": {
            "text/plain": [
              "Index(['property_bhk', 'property_sqft', 'property_city', 'property_locality',\n",
              "       'is_furnished', 'property_project', 'num_of_baths',\n",
              "       'bachelors_or_family', 'floornumber', 'totalfloor', 'property_pricenan',\n",
              "       'property_bhknan', 'property_sqftnan', 'num_of_bathsnan',\n",
              "       'floornumbernan', 'totalfloornan'],\n",
              "      dtype='object')"
            ]
          },
          "metadata": {},
          "execution_count": 115
        }
      ]
    },
    {
      "cell_type": "code",
      "source": [
        "\n",
        "df_train.columns\n",
        "\n",
        "# df_train.drop(columns=['is_furnished'], inplace=True)\n",
        "# df_val.drop(columns=['is_furnished'], inplace=True)\n",
        "\n",
        "dict_train = df_train.to_dict(orient = 'records')\n",
        "dict_val = df_val.to_dict(orient = 'records')\n",
        "\n",
        "from sklearn.feature_extraction import DictVectorizer\n",
        "\n",
        "dv = DictVectorizer(sparse = False)\n",
        "\n",
        "X_train = dv.fit_transform(dict_train)\n",
        "X_val = dv.transform(dict_val)\n",
        "\n",
        "from sklearn.ensemble import RandomForestRegressor\n",
        "from sklearn.metrics import mean_squared_error, mean_absolute_error\n",
        "\n",
        "rf_model = RandomForestRegressor(\n",
        "    n_estimators=100,  # Number of trees (you can adjust this)\n",
        "    random_state=42 ,   # Random seed for reproducibility\n",
        ")\n",
        "\n",
        "rf_model.fit(X_train, y_train)\n",
        "\n",
        "y_pred_rf = rf_model.predict(X_val)\n",
        "\n",
        "\n",
        "rmse_rf = mean_squared_error(y_val, y_pred_rf, squared=False)\n",
        "mae_rf = mean_absolute_error(y_val, y_pred_rf)\n",
        "print(f\"RandomForestRegressor RMSE: {rmse_rf}\")\n",
        "print(f\"RandomForestRegressor MAE: {mae_rf}\")\n"
      ],
      "metadata": {
        "colab": {
          "base_uri": "https://localhost:8080/"
        },
        "id": "Ws3CWbjYHcut",
        "outputId": "38fec60d-faa0-4cab-881b-bf68f1bbea4c"
      },
      "execution_count": 116,
      "outputs": [
        {
          "output_type": "stream",
          "name": "stdout",
          "text": [
            "RandomForestRegressor RMSE: 70765.07106831926\n",
            "RandomForestRegressor MAE: 11050.61886094914\n"
          ]
        }
      ]
    }
  ]
}